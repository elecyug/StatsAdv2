{
 "cells": [
  {
   "cell_type": "markdown",
   "id": "7ef80da2-2555-4e46-807c-1905ecaea268",
   "metadata": {},
   "source": [
    "## Q1  Define the z-statistic and explain its relationship to the standard normal distribution. How is the z-statistic used in hypothesis testing?"
   ]
  },
  {
   "cell_type": "markdown",
   "id": "2de12a5d-ea39-472f-927b-ee2be543de7a",
   "metadata": {},
   "source": [
    "Ans 1 -->\n",
    "\n",
    "The z-statistic, also known as the z-score, is a statistical measurement that describes\n",
    "how many standard deviations a particular data point or sample mean is from the population\n",
    "mean. It allows us to compare individual data points or sample means to a standard normal\n",
    "distribution (which has a mean of 0 and a standard deviation of 1).\n",
    "\n",
    "formula is ->z= X−μ/ σ\n",
    "\n",
    "The z-statistic relates to the standard normal distribution, a bell-shaped curve with a mean of 0 and a standard deviation of 1. Z-scores standardize data, allowing comparison across different datasets by expressing how far a value is from the mean in standard deviation units.\n",
    "\n",
    "In hypothesis testing, the z-statistic helps determine whether to reject the null hypothesis (\n",
    "𝐻0 After calculating the z-score, it's compared to a critical value or used to find a p-value. If the p-value is smaller than the significance level (α, often 0.05), or the z-score exceeds the critical value, the null hypothesis is rejected, suggesting the sample data provides enough evidence for the alternative hypothesis (𝐻1)."
   ]
  },
  {
   "cell_type": "markdown",
   "id": "5d009d71-b98e-4317-99cf-1f180f3f5d6d",
   "metadata": {},
   "source": [
    "##  Q2. What is a p-value, and how is it used in hypothesis testing? What does it mean if the p-value is very small (e.g., 0.01)?"
   ]
  },
  {
   "cell_type": "markdown",
   "id": "a8224360-5f95-4a45-b058-a593c002b24d",
   "metadata": {},
   "source": [
    "A p-value is a statistical measure used in hypothesis testing to assess the strength of the evidence against the null hypothesis (H₀). It represents the probability of observing the data, or something more extreme, assuming H₀ is true. A small p-value (e.g., 0.01) indicates strong evidence against the null hypothesis, suggesting that the observed results are unlikely to have occurred by random chance. If the p-value is smaller than the significance level (α, often 0.05), the null hypothesis is rejected, implying the alternative hypothesis may be valid. A p-value of 0.01 means a 1% chance of observing the results under H₀."
   ]
  },
  {
   "cell_type": "markdown",
   "id": "0376508a-fb1a-460c-bc51-d18bd7af438b",
   "metadata": {},
   "source": [
    "## Q3. Compare and contrast the binomial and Bernoulli distributions. "
   ]
  },
  {
   "cell_type": "markdown",
   "id": "3c41cc8b-2cd9-4d6c-ae90-2ab18e50855e",
   "metadata": {},
   "source": [
    "The binomial and Bernoulli distributions are two fundamental probability distributions in statistics. The Bernoulli distribution models a single trial with two possible outcomes, success or failure, with a probability of success p. The binomial distribution, on the other hand, models the number of successes in a fixed number of independent Bernoulli trials, each with the same probability of success p.\n",
    "\n",
    "The key differences between the two distributions are:\n",
    "\n",
    "The Bernoulli distribution is a single-trial distribution, while the binomial distribution is a multi-trial distribution.\n",
    "The Bernoulli distribution has only two possible outcomes, while the binomial distribution has multiple possible outcomes (0, 1, 2, ..., n).\n",
    "The Bernoulli distribution is a special case of the binomial distribution, where n=1.\n",
    "Despite these differences, both distributions are used to model binary outcomes and are widely used in statistics and probability theory. The binomial distribution is often used to model the number of successes in a fixed number of trials, while the Bernoulli distribution is used to model a single trial with a binary outcome."
   ]
  },
  {
   "cell_type": "markdown",
   "id": "d779d2a1-18dc-404f-a198-73ba5b1fe3c9",
   "metadata": {},
   "source": [
    "##  Q4. Under what conditions is the binomial distribution used, and how does it relate to the Bernoulli distribution?"
   ]
  },
  {
   "cell_type": "markdown",
   "id": "fb31af04-6419-427f-9588-66d03245ea5f",
   "metadata": {},
   "source": [
    "The binomial distribution is used under the following conditions:\n",
    "\n",
    "Fixed number of trials: The number of trials, n, is fixed and known.\n",
    "Independent trials: Each trial is independent of the others.\n",
    "Binary outcomes: Each trial has only two possible outcomes, success or failure.\n",
    "Constant probability of success: The probability of success, p, is constant and known for each trial.\n",
    "Random sampling: The trials are randomly sampled from a population.\n",
    "The binomial distribution is closely related to the Bernoulli distribution, as it is essentially a sum of multiple Bernoulli trials. In fact, the binomial distribution can be thought of as a sequence of n independent Bernoulli trials, each with the same probability of success p. The binomial distribution models the number of successes in these n trials, while the Bernoulli distribution models a single trial.\n",
    "\n",
    "To illustrate this relationship, consider a single Bernoulli trial with probability of success p. If we repeat this trial n times, the number of successes will follow a binomial distribution with parameters n and p. In other words, the binomial distribution is a generalization of the Bernoulli distribution to multiple trials.\n",
    "\n",
    "Mathematically, the binomial distribution can be expressed as:\n",
    "\n",
    "P(X=k) = (n choose k) * p^k * (1-p)^(n-k)\n",
    "\n",
    "where X is the number of successes, k is the number of successes, n is the number of trials, and p is the probability of success.\n",
    "\n",
    "In summary, the binomial distribution is used when we have a fixed number of independent trials with binary outcomes and a constant probability of success, and it is closely related to the Bernoulli distribution, which models a single trial with a binary outcome."
   ]
  },
  {
   "cell_type": "markdown",
   "id": "886fdaac-2047-4f70-a8f6-b4d391e2b46a",
   "metadata": {},
   "source": [
    "## Q5. What are the key properties of the Poisson distribution, and when is it appropriate to use this distribution?"
   ]
  },
  {
   "cell_type": "markdown",
   "id": "f59076e5-fa90-42aa-95af-7b06d1e5735f",
   "metadata": {},
   "source": [
    "The Poisson distribution is a discrete probability distribution that models the number of events occurring in a fixed interval of time or space, where these events occur independently and at a constant average rate. The key properties of the Poisson distribution are:\n",
    "\n",
    "Countable outcomes: The Poisson distribution models the number of events, which is a countable outcome.\n",
    "Constant average rate: The average rate at which events occur is constant and known.\n",
    "Independence: The events occur independently of each other.\n",
    "No simultaneous events: Events cannot occur simultaneously.\n",
    "Infinite divisibility: The Poisson distribution is infinitely divisible, meaning that it can be divided into smaller intervals, and the resulting distribution is still Poisson.\n",
    "The Poisson distribution is appropriate to use in the following situations:\n",
    "\n",
    "Counting rare events: When the events are rare and occur independently, such as the number of accidents in a given time period.\n",
    "Modeling arrival rates: When modeling the arrival rate of customers, phone calls, or other events that occur at a constant average rate.\n",
    "Analyzing defect rates: When analyzing the number of defects in a manufacturing process, where the defects occur independently and at a constant average rate.\n",
    "Modeling queueing systems: When modeling queueing systems, such as the number of customers in a queue or the number of jobs in a system.\n",
    "Analyzing spatial data: When analyzing spatial data, such as the number of points in a given area.\n",
    "The Poisson distribution is commonly used in various fields, including:\n",
    "\n",
    "Quality control: To model defect rates and analyze quality control data.\n",
    "Operations research: To model queueing systems and optimize system performance.\n",
    "Epidemiology: To model the spread of diseases and analyze the number of cases.\n",
    "Finance: To model the number of transactions or arrivals in a financial system.\n",
    "Engineering: To model the number of failures or defects in a system.\n",
    "The Poisson distribution is a powerful tool for modeling and analyzing count data, and its applications are diverse and widespread."
   ]
  },
  {
   "cell_type": "markdown",
   "id": "1871e0f7-6c44-4295-b40d-35348fa034ba",
   "metadata": {},
   "source": [
    "## Q6. Define the terms \"probability distribution\" and \"probability density function\" (PDF). How does aPDF differ from a probability mass function (PMF)?"
   ]
  },
  {
   "cell_type": "markdown",
   "id": "24173b5c-e775-4b5a-aae0-6ce1fa5b877b",
   "metadata": {},
   "source": [
    "Probability Distribution:\n",
    "A probability distribution is a mathematical function that describes the probability of different values or ranges of values that a random variable can take. It assigns a probability to each possible value or range of values, satisfying the following properties:\n",
    "\n",
    "The probability of each value or range is non-negative.\n",
    "The sum of the probabilities of all possible values or ranges is equal to 1.\n",
    "The probability of any event (a set of values or ranges) is the sum of the probabilities of the individual values or ranges in that event.\n",
    "Probability Density Function (PDF):\n",
    "A probability density function (PDF) is a mathematical function that describes the probability distribution of a continuous random variable. It is a non-negative function, f(x), that satisfies the following properties:\n",
    "\n",
    "The area under the curve of f(x) between any two points a and b represents the probability that the random variable takes on a value between a and b.\n",
    "The total area under the curve of f(x) is equal to 1.\n",
    "In other words, a PDF describes the probability of a continuous random variable taking on a value within a given range.\n",
    "\n",
    "Probability Mass Function (PMF):\n",
    "A probability mass function (PMF) is a mathematical function that describes the probability distribution of a discrete random variable. It is a function, p(x), that assigns a probability to each possible value of the random variable, satisfying the following properties:\n",
    "\n",
    "The probability of each value is non-negative.\n",
    "The sum of the probabilities of all possible values is equal to 1.\n",
    "The key difference between a PDF and a PMF is that a PDF is used for continuous random variables, while a PMF is used for discrete random variables. A PDF describes the probability of a continuous random variable taking on a value within a given range, while a PMF describes the probability of a discrete random variable taking on a specific value.\n",
    "\n",
    "To illustrate the difference, consider a random variable X that represents the height of a person. If X is a continuous random variable, a PDF would describe the probability of X taking on a value within a given range, such as between 160 cm and 170 cm. On the other hand, if X is a discrete random variable, a PMF would describe the probability of X taking on a specific value, such as 165 cm.\n",
    "\n",
    "In summary, a PDF is used for continuous random variables and describes the probability of a value within a range, while a PMF is used for discrete random variables and describes the probability of a specific value."
   ]
  },
  {
   "cell_type": "markdown",
   "id": "44420a8e-68ae-4822-9a7b-e34dcaef76ad",
   "metadata": {},
   "source": [
    "## Q7.  Explain the Central Limit Theorem (CLT) with example."
   ]
  },
  {
   "cell_type": "markdown",
   "id": "495346fc-377c-4329-bdec-0ef42b43b6d3",
   "metadata": {},
   "source": [
    "The Central Limit Theorem (CLT) states that, given a sufficiently large sample size, the sampling distribution of the sample mean will approximate a normal distribution, regardless of the population's original distribution. This is a key principle in statistics because it allows for the use of normal distribution properties to make inferences about population parameters.\n",
    "\n",
    "Example:\n",
    "Consider a population of exam scores that is heavily skewed (not normally distributed). If you take random samples of 50 scores repeatedly and calculate the mean for each sample, the distribution of these sample means will tend to form a normal distribution. As the sample size increases, this approximation becomes more accurate, even though the original data is skewed.\n",
    "\n",
    "This allows statisticians to use techniques like confidence intervals or hypothesis testing on sample means, relying on the normal distribution even when the underlying data isn't normally distributed."
   ]
  },
  {
   "cell_type": "markdown",
   "id": "de974b4c-406e-4411-b831-73d7572f25e2",
   "metadata": {},
   "source": [
    "## Q8. Compare z-scores and t-scores. When should you use a z-score, and when should a t-score be applied instead?"
   ]
  },
  {
   "cell_type": "markdown",
   "id": "289788a6-60ad-4e95-8f79-f888a4c6f895",
   "metadata": {},
   "source": [
    "Z-scores and t-scores are both standardized scores used to compare individual data points to the mean in hypothesis testing and confidence intervals. However, they differ in their applications based on the available information and sample size.\n",
    "\n",
    "Z-scores:\n",
    "A z-score measures how many standard deviations a data point is from the population mean.\n",
    "It is used when the population standard deviation (\n",
    "𝜎\n",
    "σ) is known and the sample size is large (typically \n",
    "𝑛\n",
    "≥\n",
    "30\n",
    "n≥30).\n",
    "The z-distribution follows the standard normal distribution (mean = 0, standard deviation = 1).\n",
    "T-scores:\n",
    "A t-score is used when the population standard deviation is unknown, and the sample size is small (\n",
    "𝑛\n",
    "<\n",
    "30\n",
    "n<30).\n",
    "The t-distribution accounts for the additional uncertainty introduced by estimating the standard deviation from the sample.\n",
    "The t-distribution is wider and has heavier tails than the normal distribution, but as sample size increases, it approaches the z-distribution.\n",
    "When to use:\n",
    "Use z-scores when the population standard deviation is known and/or the sample size is large.\n",
    "Use t-scores when the population standard deviation is unknown and the sample size is small."
   ]
  },
  {
   "cell_type": "markdown",
   "id": "243872ad-1cf4-403e-ae45-de5b7b6fb8da",
   "metadata": {},
   "source": [
    "## Q9.  Given a sample mean of 105, a population mean of 100, a standard deviation of 15, and a sample size of 25, calculate the z-score and p-value. Based on a significance level of 0.05, do you reject or fail to reject the null hypothesis?\n",
    "\n",
    "## Task: Write Python code to calculate the z-score and p-value for the given data.\n",
    "\n",
    "## Objective: Apply the formula for the z-score and interpret the p-value for hypothesis testing "
   ]
  },
  {
   "cell_type": "code",
   "execution_count": 38,
   "id": "a8e82016-8a15-4bc5-8bed-4930563a33e1",
   "metadata": {},
   "outputs": [
    {
     "data": {
      "text/plain": [
       "(1.6666666666666667, 0.09558070454562939, False)"
      ]
     },
     "execution_count": 38,
     "metadata": {},
     "output_type": "execute_result"
    }
   ],
   "source": [
    "import scipy.stats as stats\n",
    "\n",
    "# Given data\n",
    "sample_mean = 105\n",
    "population_mean = 100\n",
    "std_dev = 15\n",
    "sample_size = 25\n",
    "alpha = 0.05\n",
    "\n",
    "# Calculate the standard error\n",
    "standard_error = std_dev / (sample_size ** 0.5)\n",
    "\n",
    "# Calculate the z-score\n",
    "z_score = (sample_mean - population_mean) / standard_error\n",
    "\n",
    "# Calculate the p-value for a two-tailed test\n",
    "p_value = 2 * (1 - stats.norm.cdf(abs(z_score)))\n",
    "\n",
    "# Determine if we reject or fail to reject the null hypothesis\n",
    "reject_null = p_value < alpha\n",
    "\n",
    "z_score, p_value, reject_null\n"
   ]
  },
  {
   "cell_type": "markdown",
   "id": "9757fd84-0738-4c59-8a30-1c7e1d6ff2d9",
   "metadata": {},
   "source": [
    "## Q10 . Simulate a binomial distribution with 10 trials and a probability of success of 0.6 using Python. Generate 1,000 samples and plot the distribution. What is the expected mean and variance?\n",
    "\n",
    "## Task: Use Python to generate the data, plot the distribution, and calculate the mean and variance.\n",
    "\n",
    "## Objective: Understand the properties of a binomial distribution and verify them through simulation."
   ]
  },
  {
   "cell_type": "code",
   "execution_count": 41,
   "id": "c05161b4-8e49-41eb-926b-41d9b743faa8",
   "metadata": {},
   "outputs": [
    {
     "data": {
      "image/png": "[encoded data removed]",
      "text/plain": [
       "<Figure size 640x480 with 1 Axes>"
      ]
     },
     "metadata": {},
     "output_type": "display_data"
    },
    {
     "data": {
      "text/plain": [
       "(6.0, 2.4000000000000004)"
      ]
     },
     "execution_count": 41,
     "metadata": {},
     "output_type": "execute_result"
    }
   ],
   "source": [
    "import numpy as np\n",
    "import matplotlib.pyplot as plt\n",
    "\n",
    "# Parameters for the binomial distribution\n",
    "n_trials = 10\n",
    "p_success = 0.6\n",
    "n_samples = 1000\n",
    "\n",
    "# Simulate binomial distribution\n",
    "binomial_samples = np.random.binomial(n_trials, p_success, n_samples)\n",
    "\n",
    "# Calculate expected mean and variance\n",
    "expected_mean = n_trials * p_success\n",
    "expected_variance = n_trials * p_success * (1 - p_success)\n",
    "\n",
    "# Plot the distribution\n",
    "plt.hist(binomial_samples, bins=np.arange(0, n_trials+2)-0.5, density=True, edgecolor='black')\n",
    "plt.title(\"Binomial Distribution (n=10, p=0.6, samples=1000)\")\n",
    "plt.xlabel(\"Number of successes\")\n",
    "plt.ylabel(\"Probability\")\n",
    "plt.show()\n",
    "\n",
    "expected_mean, expected_variance\n"
   ]
  },
  {
   "cell_type": "code",
   "execution_count": null,
   "id": "8fe2a078-f7f8-4037-b2ef-099b65ee7877",
   "metadata": {},
   "outputs": [],
   "source": []
  }
 ],
 "metadata": {
  "kernelspec": {
   "display_name": "Python 3 (ipykernel)",
   "language": "python",
   "name": "python3"
  },
  "language_info": {
   "codemirror_mode": {
    "name": "ipython",
    "version": 3
   },
   "file_extension": ".py",
   "mimetype": "text/x-python",
   "name": "python",
   "nbconvert_exporter": "python",
   "pygments_lexer": "ipython3",
   "version": "3.12.4"
  }
 },
 "nbformat": 4,
 "nbformat_minor": 5
}
